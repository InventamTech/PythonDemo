{
 "cells": [
  {
   "cell_type": "code",
   "execution_count": 1,
   "id": "loaded-habitat",
   "metadata": {},
   "outputs": [],
   "source": [
    "a = [(1,2),(3,4),(5,6)]"
   ]
  },
  {
   "cell_type": "code",
   "execution_count": 3,
   "id": "controlling-immune",
   "metadata": {},
   "outputs": [
    {
     "name": "stdout",
     "output_type": "stream",
     "text": [
      "1\n",
      "3\n",
      "5\n"
     ]
    }
   ],
   "source": [
    "for b,c in a:\n",
    "    print(b)"
   ]
  },
  {
   "cell_type": "code",
   "execution_count": 4,
   "id": "inside-queen",
   "metadata": {},
   "outputs": [],
   "source": [
    "a= {\"k1\":1,\"k2\":2,\"k3\":3}"
   ]
  },
  {
   "cell_type": "code",
   "execution_count": null,
   "id": "improved-eight",
   "metadata": {},
   "outputs": [],
   "source": [
    "for items in a:\n",
    "    print(items)"
   ]
  }
 ],
 "metadata": {
  "kernelspec": {
   "display_name": "Python 3",
   "language": "python",
   "name": "python3"
  },
  "language_info": {
   "codemirror_mode": {
    "name": "ipython",
    "version": 3
   },
   "file_extension": ".py",
   "mimetype": "text/x-python",
   "name": "python",
   "nbconvert_exporter": "python",
   "pygments_lexer": "ipython3",
   "version": "3.8.5"
  }
 },
 "nbformat": 4,
 "nbformat_minor": 5
}
